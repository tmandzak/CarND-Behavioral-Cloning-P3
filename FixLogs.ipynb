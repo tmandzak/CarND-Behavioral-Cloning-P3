{
 "cells": [
  {
   "cell_type": "code",
   "execution_count": 1,
   "metadata": {
    "collapsed": false,
    "deletable": true,
    "editable": true
   },
   "outputs": [],
   "source": [
    "import pandas as pd"
   ]
  },
  {
   "cell_type": "code",
   "execution_count": 30,
   "metadata": {
    "collapsed": false,
    "deletable": true,
    "editable": true
   },
   "outputs": [],
   "source": [
    "driving_log = pd.read_csv('data22/driving_log.csv', header=None)#, names=['center', 'left', 'right', 'steering', 'throttle', 'brake', 'speed'], usecols=['center', 'left', 'right', 'steering']) \n",
    "driving_log_back = pd.read_csv('data2back/driving_log.csv', header=None)#, names=['center', 'left', 'right', 'steering', 'throttle', 'brake', 'speed'], usecols=['center', 'left', 'right', 'steering']) \n",
    "driving_log_dark = pd.read_csv('data2_dark/driving_log.csv', header=None)#, names=['center', 'left', 'right', 'steering', 'throttle', 'brake', 'speed'], usecols=['center', 'left', 'right', 'steering']) \n",
    "driving_log_road = pd.read_csv('data/driving_log.csv')"
   ]
  },
  {
   "cell_type": "code",
   "execution_count": 8,
   "metadata": {
    "collapsed": true
   },
   "outputs": [],
   "source": [
    "s = r\"C:\\\\Users\\\\ETASMAK\\\\Documents\\\\CarND-Behavioral-Cloning-P3\\\\\""
   ]
  },
  {
   "cell_type": "code",
   "execution_count": 9,
   "metadata": {
    "collapsed": false,
    "deletable": true,
    "editable": true
   },
   "outputs": [],
   "source": [
    "driving_log[0] = driving_log[0].str.replace(s,'')\n",
    "driving_log[1] = driving_log[1].str.replace(s,'')\n",
    "driving_log[2] = driving_log[2].str.replace(s,'')"
   ]
  },
  {
   "cell_type": "code",
   "execution_count": 11,
   "metadata": {
    "collapsed": true,
    "deletable": true,
    "editable": true
   },
   "outputs": [],
   "source": [
    "driving_log_back[0] = driving_log_back[0].str.replace(s,'')\n",
    "driving_log_back[1] = driving_log_back[1].str.replace(s,'')\n",
    "driving_log_back[2] = driving_log_back[2].str.replace(s,'')"
   ]
  },
  {
   "cell_type": "code",
   "execution_count": 12,
   "metadata": {
    "collapsed": true,
    "deletable": true,
    "editable": true
   },
   "outputs": [],
   "source": [
    "driving_log_dark[0] = driving_log_dark[0].str.replace(s,'')\n",
    "driving_log_dark[1] = driving_log_dark[1].str.replace(s,'')\n",
    "driving_log_dark[2] = driving_log_dark[2].str.replace(s,'')"
   ]
  },
  {
   "cell_type": "code",
   "execution_count": 32,
   "metadata": {
    "collapsed": true
   },
   "outputs": [],
   "source": [
    "s = 'IMG'\n",
    "d = 'data/IMG'"
   ]
  },
  {
   "cell_type": "code",
   "execution_count": 34,
   "metadata": {
    "collapsed": false
   },
   "outputs": [],
   "source": [
    "driving_log_road['center'] = driving_log_road['center'].str.replace(s,d)\n",
    "driving_log_road['left'] = driving_log_road['left'].str.replace(s,d)\n",
    "driving_log_road['right'] = driving_log_road['right'].str.replace(s,d)"
   ]
  },
  {
   "cell_type": "code",
   "execution_count": 27,
   "metadata": {
    "collapsed": false,
    "deletable": true,
    "editable": true
   },
   "outputs": [
    {
     "data": {
      "text/html": [
       "<div>\n",
       "<table border=\"1\" class=\"dataframe\">\n",
       "  <thead>\n",
       "    <tr style=\"text-align: right;\">\n",
       "      <th></th>\n",
       "      <th>0</th>\n",
       "      <th>1</th>\n",
       "      <th>2</th>\n",
       "      <th>3</th>\n",
       "      <th>4</th>\n",
       "      <th>5</th>\n",
       "      <th>6</th>\n",
       "    </tr>\n",
       "  </thead>\n",
       "  <tbody>\n",
       "    <tr>\n",
       "      <th>0</th>\n",
       "      <td>data22\\IMG\\center_2017_03_18_12_40_55_930.jpg</td>\n",
       "      <td>data22\\IMG\\left_2017_03_18_12_40_55_930.jpg</td>\n",
       "      <td>data22\\IMG\\right_2017_03_18_12_40_55_930.jpg</td>\n",
       "      <td>0.0</td>\n",
       "      <td>0.0</td>\n",
       "      <td>0.0</td>\n",
       "      <td>5.070753</td>\n",
       "    </tr>\n",
       "    <tr>\n",
       "      <th>1</th>\n",
       "      <td>data22\\IMG\\center_2017_03_18_12_40_56_003.jpg</td>\n",
       "      <td>data22\\IMG\\left_2017_03_18_12_40_56_003.jpg</td>\n",
       "      <td>data22\\IMG\\right_2017_03_18_12_40_56_003.jpg</td>\n",
       "      <td>0.0</td>\n",
       "      <td>0.0</td>\n",
       "      <td>0.0</td>\n",
       "      <td>5.030000</td>\n",
       "    </tr>\n",
       "    <tr>\n",
       "      <th>2</th>\n",
       "      <td>data22\\IMG\\center_2017_03_18_12_40_56_074.jpg</td>\n",
       "      <td>data22\\IMG\\left_2017_03_18_12_40_56_074.jpg</td>\n",
       "      <td>data22\\IMG\\right_2017_03_18_12_40_56_074.jpg</td>\n",
       "      <td>0.0</td>\n",
       "      <td>0.0</td>\n",
       "      <td>0.0</td>\n",
       "      <td>4.999651</td>\n",
       "    </tr>\n",
       "    <tr>\n",
       "      <th>3</th>\n",
       "      <td>data22\\IMG\\center_2017_03_18_12_40_56_148.jpg</td>\n",
       "      <td>data22\\IMG\\left_2017_03_18_12_40_56_148.jpg</td>\n",
       "      <td>data22\\IMG\\right_2017_03_18_12_40_56_148.jpg</td>\n",
       "      <td>0.0</td>\n",
       "      <td>0.0</td>\n",
       "      <td>0.0</td>\n",
       "      <td>4.959469</td>\n",
       "    </tr>\n",
       "    <tr>\n",
       "      <th>4</th>\n",
       "      <td>data22\\IMG\\center_2017_03_18_12_40_56_219.jpg</td>\n",
       "      <td>data22\\IMG\\left_2017_03_18_12_40_56_219.jpg</td>\n",
       "      <td>data22\\IMG\\right_2017_03_18_12_40_56_219.jpg</td>\n",
       "      <td>0.0</td>\n",
       "      <td>0.0</td>\n",
       "      <td>0.0</td>\n",
       "      <td>4.919609</td>\n",
       "    </tr>\n",
       "  </tbody>\n",
       "</table>\n",
       "</div>"
      ],
      "text/plain": [
       "                                               0  \\\n",
       "0  data22\\IMG\\center_2017_03_18_12_40_55_930.jpg   \n",
       "1  data22\\IMG\\center_2017_03_18_12_40_56_003.jpg   \n",
       "2  data22\\IMG\\center_2017_03_18_12_40_56_074.jpg   \n",
       "3  data22\\IMG\\center_2017_03_18_12_40_56_148.jpg   \n",
       "4  data22\\IMG\\center_2017_03_18_12_40_56_219.jpg   \n",
       "\n",
       "                                             1  \\\n",
       "0  data22\\IMG\\left_2017_03_18_12_40_55_930.jpg   \n",
       "1  data22\\IMG\\left_2017_03_18_12_40_56_003.jpg   \n",
       "2  data22\\IMG\\left_2017_03_18_12_40_56_074.jpg   \n",
       "3  data22\\IMG\\left_2017_03_18_12_40_56_148.jpg   \n",
       "4  data22\\IMG\\left_2017_03_18_12_40_56_219.jpg   \n",
       "\n",
       "                                              2    3    4    5         6  \n",
       "0  data22\\IMG\\right_2017_03_18_12_40_55_930.jpg  0.0  0.0  0.0  5.070753  \n",
       "1  data22\\IMG\\right_2017_03_18_12_40_56_003.jpg  0.0  0.0  0.0  5.030000  \n",
       "2  data22\\IMG\\right_2017_03_18_12_40_56_074.jpg  0.0  0.0  0.0  4.999651  \n",
       "3  data22\\IMG\\right_2017_03_18_12_40_56_148.jpg  0.0  0.0  0.0  4.959469  \n",
       "4  data22\\IMG\\right_2017_03_18_12_40_56_219.jpg  0.0  0.0  0.0  4.919609  "
      ]
     },
     "execution_count": 27,
     "metadata": {},
     "output_type": "execute_result"
    }
   ],
   "source": [
    "#driving_log.drop(0, inplace=True)\n",
    "driving_log.head()"
   ]
  },
  {
   "cell_type": "code",
   "execution_count": 28,
   "metadata": {
    "collapsed": false,
    "deletable": true,
    "editable": true
   },
   "outputs": [
    {
     "data": {
      "text/html": [
       "<div>\n",
       "<table border=\"1\" class=\"dataframe\">\n",
       "  <thead>\n",
       "    <tr style=\"text-align: right;\">\n",
       "      <th></th>\n",
       "      <th>0</th>\n",
       "      <th>1</th>\n",
       "      <th>2</th>\n",
       "      <th>3</th>\n",
       "      <th>4</th>\n",
       "      <th>5</th>\n",
       "      <th>6</th>\n",
       "    </tr>\n",
       "  </thead>\n",
       "  <tbody>\n",
       "    <tr>\n",
       "      <th>0</th>\n",
       "      <td>data2back\\IMG\\center_2017_03_18_13_49_56_289.jpg</td>\n",
       "      <td>data2back\\IMG\\left_2017_03_18_13_49_56_289.jpg</td>\n",
       "      <td>data2back\\IMG\\right_2017_03_18_13_49_56_289.jpg</td>\n",
       "      <td>0.0</td>\n",
       "      <td>0.0</td>\n",
       "      <td>0.0</td>\n",
       "      <td>0.246354</td>\n",
       "    </tr>\n",
       "    <tr>\n",
       "      <th>1</th>\n",
       "      <td>data2back\\IMG\\center_2017_03_18_13_49_56_362.jpg</td>\n",
       "      <td>data2back\\IMG\\left_2017_03_18_13_49_56_362.jpg</td>\n",
       "      <td>data2back\\IMG\\right_2017_03_18_13_49_56_362.jpg</td>\n",
       "      <td>0.0</td>\n",
       "      <td>0.0</td>\n",
       "      <td>0.0</td>\n",
       "      <td>0.224247</td>\n",
       "    </tr>\n",
       "    <tr>\n",
       "      <th>2</th>\n",
       "      <td>data2back\\IMG\\center_2017_03_18_13_49_56_436.jpg</td>\n",
       "      <td>data2back\\IMG\\left_2017_03_18_13_49_56_436.jpg</td>\n",
       "      <td>data2back\\IMG\\right_2017_03_18_13_49_56_436.jpg</td>\n",
       "      <td>0.0</td>\n",
       "      <td>0.0</td>\n",
       "      <td>0.0</td>\n",
       "      <td>0.194979</td>\n",
       "    </tr>\n",
       "    <tr>\n",
       "      <th>3</th>\n",
       "      <td>data2back\\IMG\\center_2017_03_18_13_49_56_510.jpg</td>\n",
       "      <td>data2back\\IMG\\left_2017_03_18_13_49_56_510.jpg</td>\n",
       "      <td>data2back\\IMG\\right_2017_03_18_13_49_56_510.jpg</td>\n",
       "      <td>0.0</td>\n",
       "      <td>0.0</td>\n",
       "      <td>0.0</td>\n",
       "      <td>0.165964</td>\n",
       "    </tr>\n",
       "    <tr>\n",
       "      <th>4</th>\n",
       "      <td>data2back\\IMG\\center_2017_03_18_13_49_56_588.jpg</td>\n",
       "      <td>data2back\\IMG\\left_2017_03_18_13_49_56_588.jpg</td>\n",
       "      <td>data2back\\IMG\\right_2017_03_18_13_49_56_588.jpg</td>\n",
       "      <td>0.0</td>\n",
       "      <td>0.0</td>\n",
       "      <td>0.0</td>\n",
       "      <td>0.137189</td>\n",
       "    </tr>\n",
       "  </tbody>\n",
       "</table>\n",
       "</div>"
      ],
      "text/plain": [
       "                                                  0  \\\n",
       "0  data2back\\IMG\\center_2017_03_18_13_49_56_289.jpg   \n",
       "1  data2back\\IMG\\center_2017_03_18_13_49_56_362.jpg   \n",
       "2  data2back\\IMG\\center_2017_03_18_13_49_56_436.jpg   \n",
       "3  data2back\\IMG\\center_2017_03_18_13_49_56_510.jpg   \n",
       "4  data2back\\IMG\\center_2017_03_18_13_49_56_588.jpg   \n",
       "\n",
       "                                                1  \\\n",
       "0  data2back\\IMG\\left_2017_03_18_13_49_56_289.jpg   \n",
       "1  data2back\\IMG\\left_2017_03_18_13_49_56_362.jpg   \n",
       "2  data2back\\IMG\\left_2017_03_18_13_49_56_436.jpg   \n",
       "3  data2back\\IMG\\left_2017_03_18_13_49_56_510.jpg   \n",
       "4  data2back\\IMG\\left_2017_03_18_13_49_56_588.jpg   \n",
       "\n",
       "                                                 2    3    4    5         6  \n",
       "0  data2back\\IMG\\right_2017_03_18_13_49_56_289.jpg  0.0  0.0  0.0  0.246354  \n",
       "1  data2back\\IMG\\right_2017_03_18_13_49_56_362.jpg  0.0  0.0  0.0  0.224247  \n",
       "2  data2back\\IMG\\right_2017_03_18_13_49_56_436.jpg  0.0  0.0  0.0  0.194979  \n",
       "3  data2back\\IMG\\right_2017_03_18_13_49_56_510.jpg  0.0  0.0  0.0  0.165964  \n",
       "4  data2back\\IMG\\right_2017_03_18_13_49_56_588.jpg  0.0  0.0  0.0  0.137189  "
      ]
     },
     "execution_count": 28,
     "metadata": {},
     "output_type": "execute_result"
    }
   ],
   "source": [
    "#driving_log_back.drop(0, inplace=True)\n",
    "driving_log_back.head()"
   ]
  },
  {
   "cell_type": "code",
   "execution_count": 29,
   "metadata": {
    "collapsed": false,
    "deletable": true,
    "editable": true
   },
   "outputs": [
    {
     "data": {
      "text/html": [
       "<div>\n",
       "<table border=\"1\" class=\"dataframe\">\n",
       "  <thead>\n",
       "    <tr style=\"text-align: right;\">\n",
       "      <th></th>\n",
       "      <th>0</th>\n",
       "      <th>1</th>\n",
       "      <th>2</th>\n",
       "      <th>3</th>\n",
       "      <th>4</th>\n",
       "      <th>5</th>\n",
       "      <th>6</th>\n",
       "    </tr>\n",
       "  </thead>\n",
       "  <tbody>\n",
       "    <tr>\n",
       "      <th>0</th>\n",
       "      <td>data2_dark\\IMG\\center_2017_03_18_14_39_39_292.jpg</td>\n",
       "      <td>data2_dark\\IMG\\left_2017_03_18_14_39_39_292.jpg</td>\n",
       "      <td>data2_dark\\IMG\\right_2017_03_18_14_39_39_292.jpg</td>\n",
       "      <td>0.0</td>\n",
       "      <td>0.0</td>\n",
       "      <td>0.0</td>\n",
       "      <td>1.437142</td>\n",
       "    </tr>\n",
       "    <tr>\n",
       "      <th>1</th>\n",
       "      <td>data2_dark\\IMG\\center_2017_03_18_14_39_39_376.jpg</td>\n",
       "      <td>data2_dark\\IMG\\left_2017_03_18_14_39_39_376.jpg</td>\n",
       "      <td>data2_dark\\IMG\\right_2017_03_18_14_39_39_376.jpg</td>\n",
       "      <td>0.0</td>\n",
       "      <td>0.0</td>\n",
       "      <td>0.0</td>\n",
       "      <td>1.424867</td>\n",
       "    </tr>\n",
       "    <tr>\n",
       "      <th>2</th>\n",
       "      <td>data2_dark\\IMG\\center_2017_03_18_14_39_39_457.jpg</td>\n",
       "      <td>data2_dark\\IMG\\left_2017_03_18_14_39_39_457.jpg</td>\n",
       "      <td>data2_dark\\IMG\\right_2017_03_18_14_39_39_457.jpg</td>\n",
       "      <td>0.0</td>\n",
       "      <td>0.0</td>\n",
       "      <td>0.0</td>\n",
       "      <td>1.412696</td>\n",
       "    </tr>\n",
       "    <tr>\n",
       "      <th>3</th>\n",
       "      <td>data2_dark\\IMG\\center_2017_03_18_14_39_39_538.jpg</td>\n",
       "      <td>data2_dark\\IMG\\left_2017_03_18_14_39_39_538.jpg</td>\n",
       "      <td>data2_dark\\IMG\\right_2017_03_18_14_39_39_538.jpg</td>\n",
       "      <td>0.0</td>\n",
       "      <td>0.0</td>\n",
       "      <td>0.0</td>\n",
       "      <td>1.400630</td>\n",
       "    </tr>\n",
       "    <tr>\n",
       "      <th>4</th>\n",
       "      <td>data2_dark\\IMG\\center_2017_03_18_14_39_39_616.jpg</td>\n",
       "      <td>data2_dark\\IMG\\left_2017_03_18_14_39_39_616.jpg</td>\n",
       "      <td>data2_dark\\IMG\\right_2017_03_18_14_39_39_616.jpg</td>\n",
       "      <td>0.0</td>\n",
       "      <td>0.0</td>\n",
       "      <td>0.0</td>\n",
       "      <td>1.388666</td>\n",
       "    </tr>\n",
       "  </tbody>\n",
       "</table>\n",
       "</div>"
      ],
      "text/plain": [
       "                                                   0  \\\n",
       "0  data2_dark\\IMG\\center_2017_03_18_14_39_39_292.jpg   \n",
       "1  data2_dark\\IMG\\center_2017_03_18_14_39_39_376.jpg   \n",
       "2  data2_dark\\IMG\\center_2017_03_18_14_39_39_457.jpg   \n",
       "3  data2_dark\\IMG\\center_2017_03_18_14_39_39_538.jpg   \n",
       "4  data2_dark\\IMG\\center_2017_03_18_14_39_39_616.jpg   \n",
       "\n",
       "                                                 1  \\\n",
       "0  data2_dark\\IMG\\left_2017_03_18_14_39_39_292.jpg   \n",
       "1  data2_dark\\IMG\\left_2017_03_18_14_39_39_376.jpg   \n",
       "2  data2_dark\\IMG\\left_2017_03_18_14_39_39_457.jpg   \n",
       "3  data2_dark\\IMG\\left_2017_03_18_14_39_39_538.jpg   \n",
       "4  data2_dark\\IMG\\left_2017_03_18_14_39_39_616.jpg   \n",
       "\n",
       "                                                  2    3    4    5         6  \n",
       "0  data2_dark\\IMG\\right_2017_03_18_14_39_39_292.jpg  0.0  0.0  0.0  1.437142  \n",
       "1  data2_dark\\IMG\\right_2017_03_18_14_39_39_376.jpg  0.0  0.0  0.0  1.424867  \n",
       "2  data2_dark\\IMG\\right_2017_03_18_14_39_39_457.jpg  0.0  0.0  0.0  1.412696  \n",
       "3  data2_dark\\IMG\\right_2017_03_18_14_39_39_538.jpg  0.0  0.0  0.0  1.400630  \n",
       "4  data2_dark\\IMG\\right_2017_03_18_14_39_39_616.jpg  0.0  0.0  0.0  1.388666  "
      ]
     },
     "execution_count": 29,
     "metadata": {},
     "output_type": "execute_result"
    }
   ],
   "source": [
    "#driving_log_dark.drop(0, inplace=True)\n",
    "driving_log_dark.head()"
   ]
  },
  {
   "cell_type": "code",
   "execution_count": 38,
   "metadata": {
    "collapsed": false
   },
   "outputs": [
    {
     "data": {
      "text/html": [
       "<div>\n",
       "<table border=\"1\" class=\"dataframe\">\n",
       "  <thead>\n",
       "    <tr style=\"text-align: right;\">\n",
       "      <th></th>\n",
       "      <th>center</th>\n",
       "      <th>left</th>\n",
       "      <th>right</th>\n",
       "      <th>steering</th>\n",
       "      <th>throttle</th>\n",
       "      <th>brake</th>\n",
       "      <th>speed</th>\n",
       "    </tr>\n",
       "  </thead>\n",
       "  <tbody>\n",
       "    <tr>\n",
       "      <th>0</th>\n",
       "      <td>data/IMG/center_2016_12_01_13_30_48_287.jpg</td>\n",
       "      <td>data/IMG/left_2016_12_01_13_30_48_287.jpg</td>\n",
       "      <td>data/IMG/right_2016_12_01_13_30_48_287.jpg</td>\n",
       "      <td>0.0</td>\n",
       "      <td>0.0</td>\n",
       "      <td>0.0</td>\n",
       "      <td>22.148290</td>\n",
       "    </tr>\n",
       "    <tr>\n",
       "      <th>1</th>\n",
       "      <td>data/IMG/center_2016_12_01_13_30_48_404.jpg</td>\n",
       "      <td>data/IMG/left_2016_12_01_13_30_48_404.jpg</td>\n",
       "      <td>data/IMG/right_2016_12_01_13_30_48_404.jpg</td>\n",
       "      <td>0.0</td>\n",
       "      <td>0.0</td>\n",
       "      <td>0.0</td>\n",
       "      <td>21.879630</td>\n",
       "    </tr>\n",
       "    <tr>\n",
       "      <th>2</th>\n",
       "      <td>data/IMG/center_2016_12_01_13_31_12_937.jpg</td>\n",
       "      <td>data/IMG/left_2016_12_01_13_31_12_937.jpg</td>\n",
       "      <td>data/IMG/right_2016_12_01_13_31_12_937.jpg</td>\n",
       "      <td>0.0</td>\n",
       "      <td>0.0</td>\n",
       "      <td>0.0</td>\n",
       "      <td>1.453011</td>\n",
       "    </tr>\n",
       "    <tr>\n",
       "      <th>3</th>\n",
       "      <td>data/IMG/center_2016_12_01_13_31_13_037.jpg</td>\n",
       "      <td>data/IMG/left_2016_12_01_13_31_13_037.jpg</td>\n",
       "      <td>data/IMG/right_2016_12_01_13_31_13_037.jpg</td>\n",
       "      <td>0.0</td>\n",
       "      <td>0.0</td>\n",
       "      <td>0.0</td>\n",
       "      <td>1.438419</td>\n",
       "    </tr>\n",
       "    <tr>\n",
       "      <th>4</th>\n",
       "      <td>data/IMG/center_2016_12_01_13_31_13_177.jpg</td>\n",
       "      <td>data/IMG/left_2016_12_01_13_31_13_177.jpg</td>\n",
       "      <td>data/IMG/right_2016_12_01_13_31_13_177.jpg</td>\n",
       "      <td>0.0</td>\n",
       "      <td>0.0</td>\n",
       "      <td>0.0</td>\n",
       "      <td>1.418236</td>\n",
       "    </tr>\n",
       "  </tbody>\n",
       "</table>\n",
       "</div>"
      ],
      "text/plain": [
       "                                        center  \\\n",
       "0  data/IMG/center_2016_12_01_13_30_48_287.jpg   \n",
       "1  data/IMG/center_2016_12_01_13_30_48_404.jpg   \n",
       "2  data/IMG/center_2016_12_01_13_31_12_937.jpg   \n",
       "3  data/IMG/center_2016_12_01_13_31_13_037.jpg   \n",
       "4  data/IMG/center_2016_12_01_13_31_13_177.jpg   \n",
       "\n",
       "                                         left  \\\n",
       "0   data/IMG/left_2016_12_01_13_30_48_287.jpg   \n",
       "1   data/IMG/left_2016_12_01_13_30_48_404.jpg   \n",
       "2   data/IMG/left_2016_12_01_13_31_12_937.jpg   \n",
       "3   data/IMG/left_2016_12_01_13_31_13_037.jpg   \n",
       "4   data/IMG/left_2016_12_01_13_31_13_177.jpg   \n",
       "\n",
       "                                         right  steering  throttle  brake  \\\n",
       "0   data/IMG/right_2016_12_01_13_30_48_287.jpg       0.0       0.0    0.0   \n",
       "1   data/IMG/right_2016_12_01_13_30_48_404.jpg       0.0       0.0    0.0   \n",
       "2   data/IMG/right_2016_12_01_13_31_12_937.jpg       0.0       0.0    0.0   \n",
       "3   data/IMG/right_2016_12_01_13_31_13_037.jpg       0.0       0.0    0.0   \n",
       "4   data/IMG/right_2016_12_01_13_31_13_177.jpg       0.0       0.0    0.0   \n",
       "\n",
       "       speed  \n",
       "0  22.148290  \n",
       "1  21.879630  \n",
       "2   1.453011  \n",
       "3   1.438419  \n",
       "4   1.418236  "
      ]
     },
     "execution_count": 38,
     "metadata": {},
     "output_type": "execute_result"
    }
   ],
   "source": [
    "driving_log_road.head()"
   ]
  },
  {
   "cell_type": "code",
   "execution_count": 25,
   "metadata": {
    "collapsed": false,
    "deletable": true,
    "editable": true
   },
   "outputs": [],
   "source": [
    "driving_log.to_csv('data22/driving_log.csv', index=False, header=False)\n",
    "driving_log_back.to_csv('data2back/driving_log.csv', index=False, header=False)\n",
    "driving_log_dark.to_csv('data2_dark/driving_log.csv', index=False, header=False)\n"
   ]
  },
  {
   "cell_type": "code",
   "execution_count": 37,
   "metadata": {
    "collapsed": false,
    "deletable": true,
    "editable": true
   },
   "outputs": [],
   "source": [
    "driving_log_road.to_csv('data/driving_log.csv', index=False, header=True)"
   ]
  },
  {
   "cell_type": "code",
   "execution_count": null,
   "metadata": {
    "collapsed": true
   },
   "outputs": [],
   "source": []
  }
 ],
 "metadata": {
  "kernelspec": {
   "display_name": "Python 3",
   "language": "python",
   "name": "python3"
  },
  "language_info": {
   "codemirror_mode": {
    "name": "ipython",
    "version": 3
   },
   "file_extension": ".py",
   "mimetype": "text/x-python",
   "name": "python",
   "nbconvert_exporter": "python",
   "pygments_lexer": "ipython3",
   "version": "3.5.2"
  },
  "widgets": {
   "state": {},
   "version": "1.1.2"
  }
 },
 "nbformat": 4,
 "nbformat_minor": 2
}
