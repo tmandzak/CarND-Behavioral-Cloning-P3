{
 "cells": [
  {
   "cell_type": "code",
   "execution_count": 2,
   "metadata": {
    "collapsed": false
   },
   "outputs": [],
   "source": [
    "import pandas as pd"
   ]
  },
  {
   "cell_type": "code",
   "execution_count": 3,
   "metadata": {
    "collapsed": true
   },
   "outputs": [],
   "source": [
    "driving_log = pd.read_csv('data22/driving_log.csv', header=None, names=['center', 'left', 'right', 'steering', 'throttle', 'brake', 'speed'], usecols=['center', 'left', 'right', 'steering']) \n",
    "driving_log_back = pd.read_csv('data2back/driving_log.csv', header=None, names=['center', 'left', 'right', 'steering', 'throttle', 'brake', 'speed'], usecols=['center', 'left', 'right', 'steering']) \n",
    "driving_log_dark = pd.read_csv('data2_dark/driving_log.csv', header=None, names=['center', 'left', 'right', 'steering', 'throttle', 'brake', 'speed'], usecols=['center', 'left', 'right', 'steering']) \n"
   ]
  },
  {
   "cell_type": "code",
   "execution_count": 4,
   "metadata": {
    "collapsed": false
   },
   "outputs": [
    {
     "data": {
      "text/html": [
       "<div>\n",
       "<table border=\"1\" class=\"dataframe\">\n",
       "  <thead>\n",
       "    <tr style=\"text-align: right;\">\n",
       "      <th></th>\n",
       "      <th>center</th>\n",
       "      <th>left</th>\n",
       "      <th>right</th>\n",
       "      <th>steering</th>\n",
       "    </tr>\n",
       "  </thead>\n",
       "  <tbody>\n",
       "    <tr>\n",
       "      <th>0</th>\n",
       "      <td>C:\\Users\\ETASMAK\\Documents\\CarND-Behavioral-Cl...</td>\n",
       "      <td>C:\\Users\\ETASMAK\\Documents\\CarND-Behavioral-Cl...</td>\n",
       "      <td>C:\\Users\\ETASMAK\\Documents\\CarND-Behavioral-Cl...</td>\n",
       "      <td>0.0</td>\n",
       "    </tr>\n",
       "    <tr>\n",
       "      <th>1</th>\n",
       "      <td>C:\\Users\\ETASMAK\\Documents\\CarND-Behavioral-Cl...</td>\n",
       "      <td>C:\\Users\\ETASMAK\\Documents\\CarND-Behavioral-Cl...</td>\n",
       "      <td>C:\\Users\\ETASMAK\\Documents\\CarND-Behavioral-Cl...</td>\n",
       "      <td>0.0</td>\n",
       "    </tr>\n",
       "    <tr>\n",
       "      <th>2</th>\n",
       "      <td>C:\\Users\\ETASMAK\\Documents\\CarND-Behavioral-Cl...</td>\n",
       "      <td>C:\\Users\\ETASMAK\\Documents\\CarND-Behavioral-Cl...</td>\n",
       "      <td>C:\\Users\\ETASMAK\\Documents\\CarND-Behavioral-Cl...</td>\n",
       "      <td>0.0</td>\n",
       "    </tr>\n",
       "    <tr>\n",
       "      <th>3</th>\n",
       "      <td>C:\\Users\\ETASMAK\\Documents\\CarND-Behavioral-Cl...</td>\n",
       "      <td>C:\\Users\\ETASMAK\\Documents\\CarND-Behavioral-Cl...</td>\n",
       "      <td>C:\\Users\\ETASMAK\\Documents\\CarND-Behavioral-Cl...</td>\n",
       "      <td>0.0</td>\n",
       "    </tr>\n",
       "    <tr>\n",
       "      <th>4</th>\n",
       "      <td>C:\\Users\\ETASMAK\\Documents\\CarND-Behavioral-Cl...</td>\n",
       "      <td>C:\\Users\\ETASMAK\\Documents\\CarND-Behavioral-Cl...</td>\n",
       "      <td>C:\\Users\\ETASMAK\\Documents\\CarND-Behavioral-Cl...</td>\n",
       "      <td>0.0</td>\n",
       "    </tr>\n",
       "  </tbody>\n",
       "</table>\n",
       "</div>"
      ],
      "text/plain": [
       "                                              center  \\\n",
       "0  C:\\Users\\ETASMAK\\Documents\\CarND-Behavioral-Cl...   \n",
       "1  C:\\Users\\ETASMAK\\Documents\\CarND-Behavioral-Cl...   \n",
       "2  C:\\Users\\ETASMAK\\Documents\\CarND-Behavioral-Cl...   \n",
       "3  C:\\Users\\ETASMAK\\Documents\\CarND-Behavioral-Cl...   \n",
       "4  C:\\Users\\ETASMAK\\Documents\\CarND-Behavioral-Cl...   \n",
       "\n",
       "                                                left  \\\n",
       "0  C:\\Users\\ETASMAK\\Documents\\CarND-Behavioral-Cl...   \n",
       "1  C:\\Users\\ETASMAK\\Documents\\CarND-Behavioral-Cl...   \n",
       "2  C:\\Users\\ETASMAK\\Documents\\CarND-Behavioral-Cl...   \n",
       "3  C:\\Users\\ETASMAK\\Documents\\CarND-Behavioral-Cl...   \n",
       "4  C:\\Users\\ETASMAK\\Documents\\CarND-Behavioral-Cl...   \n",
       "\n",
       "                                               right  steering  \n",
       "0  C:\\Users\\ETASMAK\\Documents\\CarND-Behavioral-Cl...       0.0  \n",
       "1  C:\\Users\\ETASMAK\\Documents\\CarND-Behavioral-Cl...       0.0  \n",
       "2  C:\\Users\\ETASMAK\\Documents\\CarND-Behavioral-Cl...       0.0  \n",
       "3  C:\\Users\\ETASMAK\\Documents\\CarND-Behavioral-Cl...       0.0  \n",
       "4  C:\\Users\\ETASMAK\\Documents\\CarND-Behavioral-Cl...       0.0  "
      ]
     },
     "execution_count": 4,
     "metadata": {},
     "output_type": "execute_result"
    }
   ],
   "source": [
    "driving_log.head()"
   ]
  },
  {
   "cell_type": "code",
   "execution_count": 5,
   "metadata": {
    "collapsed": false
   },
   "outputs": [
    {
     "data": {
      "text/plain": [
       "'C:\\\\Users\\\\ETASMAK\\\\Documents\\\\CarND-Behavioral-Cloning-P3\\\\data22\\\\IMG\\\\center_2017_03_18_12_40_55_930.jpg'"
      ]
     },
     "execution_count": 5,
     "metadata": {},
     "output_type": "execute_result"
    }
   ],
   "source": [
    "driving_log['center'][0]"
   ]
  },
  {
   "cell_type": "code",
   "execution_count": null,
   "metadata": {
    "collapsed": true
   },
   "outputs": [],
   "source": []
  }
 ],
 "metadata": {
  "kernelspec": {
   "display_name": "Python 3",
   "language": "python",
   "name": "python3"
  },
  "language_info": {
   "codemirror_mode": {
    "name": "ipython",
    "version": 3
   },
   "file_extension": ".py",
   "mimetype": "text/x-python",
   "name": "python",
   "nbconvert_exporter": "python",
   "pygments_lexer": "ipython3",
   "version": "3.5.2"
  },
  "widgets": {
   "state": {},
   "version": "1.1.2"
  }
 },
 "nbformat": 4,
 "nbformat_minor": 2
}
