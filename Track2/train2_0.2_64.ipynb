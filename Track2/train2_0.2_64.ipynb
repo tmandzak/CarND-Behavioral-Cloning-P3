{
 "cells": [
  {
   "cell_type": "code",
   "execution_count": 1,
   "metadata": {
    "collapsed": true,
    "deletable": true,
    "editable": true
   },
   "outputs": [],
   "source": [
    "zero_frac = 0.25\n",
    "m_frac = 0.6\n",
    "p_frac = 0.6\n",
    "correction = 0.2\n",
    "top_crop, bottom_crop, left_crop, right_crop = 60, 25, 0, 0\n",
    "layers = 2\n",
    "BATCHES = 64\n",
    "EPOCHS = 5"
   ]
  },
  {
   "cell_type": "markdown",
   "metadata": {
    "deletable": true,
    "editable": true
   },
   "source": [
    "## Build Log"
   ]
  },
  {
   "cell_type": "code",
   "execution_count": 2,
   "metadata": {
    "collapsed": true,
    "deletable": true,
    "editable": true
   },
   "outputs": [],
   "source": [
    "import pandas as pd\n",
    "%matplotlib inline"
   ]
  },
  {
   "cell_type": "code",
   "execution_count": 3,
   "metadata": {
    "collapsed": false
   },
   "outputs": [
    {
     "data": {
      "text/plain": [
       "(27834, 4)"
      ]
     },
     "execution_count": 3,
     "metadata": {},
     "output_type": "execute_result"
    }
   ],
   "source": [
    "driving_log = pd.read_csv('data/driving_log.csv', usecols=['center', 'left', 'right', 'steering'])\n",
    "driving_log.shape"
   ]
  },
  {
   "cell_type": "code",
   "execution_count": 4,
   "metadata": {
    "collapsed": false
   },
   "outputs": [
    {
     "data": {
      "text/html": [
       "<div>\n",
       "<table border=\"1\" class=\"dataframe\">\n",
       "  <thead>\n",
       "    <tr style=\"text-align: right;\">\n",
       "      <th></th>\n",
       "      <th>center</th>\n",
       "      <th>left</th>\n",
       "      <th>right</th>\n",
       "      <th>steering</th>\n",
       "    </tr>\n",
       "  </thead>\n",
       "  <tbody>\n",
       "    <tr>\n",
       "      <th>0</th>\n",
       "      <td>data/data22/IMG/center_2017_03_18_12_40_55_930...</td>\n",
       "      <td>data/data22/IMG/left_2017_03_18_12_40_55_930.jpg</td>\n",
       "      <td>data/data22/IMG/right_2017_03_18_12_40_55_930.jpg</td>\n",
       "      <td>0.0</td>\n",
       "    </tr>\n",
       "    <tr>\n",
       "      <th>1</th>\n",
       "      <td>data/data22/IMG/center_2017_03_18_12_40_56_003...</td>\n",
       "      <td>data/data22/IMG/left_2017_03_18_12_40_56_003.jpg</td>\n",
       "      <td>data/data22/IMG/right_2017_03_18_12_40_56_003.jpg</td>\n",
       "      <td>0.0</td>\n",
       "    </tr>\n",
       "    <tr>\n",
       "      <th>2</th>\n",
       "      <td>data/data22/IMG/center_2017_03_18_12_40_56_074...</td>\n",
       "      <td>data/data22/IMG/left_2017_03_18_12_40_56_074.jpg</td>\n",
       "      <td>data/data22/IMG/right_2017_03_18_12_40_56_074.jpg</td>\n",
       "      <td>0.0</td>\n",
       "    </tr>\n",
       "    <tr>\n",
       "      <th>3</th>\n",
       "      <td>data/data22/IMG/center_2017_03_18_12_40_56_148...</td>\n",
       "      <td>data/data22/IMG/left_2017_03_18_12_40_56_148.jpg</td>\n",
       "      <td>data/data22/IMG/right_2017_03_18_12_40_56_148.jpg</td>\n",
       "      <td>0.0</td>\n",
       "    </tr>\n",
       "    <tr>\n",
       "      <th>4</th>\n",
       "      <td>data/data22/IMG/center_2017_03_18_12_40_56_219...</td>\n",
       "      <td>data/data22/IMG/left_2017_03_18_12_40_56_219.jpg</td>\n",
       "      <td>data/data22/IMG/right_2017_03_18_12_40_56_219.jpg</td>\n",
       "      <td>0.0</td>\n",
       "    </tr>\n",
       "  </tbody>\n",
       "</table>\n",
       "</div>"
      ],
      "text/plain": [
       "                                              center  \\\n",
       "0  data/data22/IMG/center_2017_03_18_12_40_55_930...   \n",
       "1  data/data22/IMG/center_2017_03_18_12_40_56_003...   \n",
       "2  data/data22/IMG/center_2017_03_18_12_40_56_074...   \n",
       "3  data/data22/IMG/center_2017_03_18_12_40_56_148...   \n",
       "4  data/data22/IMG/center_2017_03_18_12_40_56_219...   \n",
       "\n",
       "                                               left  \\\n",
       "0  data/data22/IMG/left_2017_03_18_12_40_55_930.jpg   \n",
       "1  data/data22/IMG/left_2017_03_18_12_40_56_003.jpg   \n",
       "2  data/data22/IMG/left_2017_03_18_12_40_56_074.jpg   \n",
       "3  data/data22/IMG/left_2017_03_18_12_40_56_148.jpg   \n",
       "4  data/data22/IMG/left_2017_03_18_12_40_56_219.jpg   \n",
       "\n",
       "                                               right  steering  \n",
       "0  data/data22/IMG/right_2017_03_18_12_40_55_930.jpg       0.0  \n",
       "1  data/data22/IMG/right_2017_03_18_12_40_56_003.jpg       0.0  \n",
       "2  data/data22/IMG/right_2017_03_18_12_40_56_074.jpg       0.0  \n",
       "3  data/data22/IMG/right_2017_03_18_12_40_56_148.jpg       0.0  \n",
       "4  data/data22/IMG/right_2017_03_18_12_40_56_219.jpg       0.0  "
      ]
     },
     "execution_count": 4,
     "metadata": {},
     "output_type": "execute_result"
    }
   ],
   "source": [
    "driving_log.head()"
   ]
  },
  {
   "cell_type": "code",
   "execution_count": 5,
   "metadata": {
    "collapsed": false,
    "deletable": true,
    "editable": true
   },
   "outputs": [
    {
     "data": {
      "text/plain": [
       "count    27834.000000\n",
       "mean         0.002097\n",
       "std          0.428305\n",
       "min         -1.000000\n",
       "25%         -0.035237\n",
       "50%          0.000000\n",
       "75%          0.043641\n",
       "max          1.000000\n",
       "Name: steering, dtype: float64"
      ]
     },
     "execution_count": 5,
     "metadata": {},
     "output_type": "execute_result"
    }
   ],
   "source": [
    "driving_log['steering'].describe()"
   ]
  },
  {
   "cell_type": "code",
   "execution_count": 6,
   "metadata": {
    "collapsed": false,
    "deletable": true,
    "editable": true,
    "scrolled": true
   },
   "outputs": [
    {
     "data": {
      "image/png": "[encoded data removed]",
      "text/plain": [
       "<matplotlib.figure.Figure at 0x7f6221f2e390>"
      ]
     },
     "metadata": {},
     "output_type": "display_data"
    }
   ],
   "source": [
    "_ = driving_log['steering'].hist(bins=101, figsize=(15,5))"
   ]
  },
  {
   "cell_type": "code",
   "execution_count": 7,
   "metadata": {
    "collapsed": false,
    "deletable": true,
    "editable": true
   },
   "outputs": [],
   "source": [
    "def undersample(log, value, frac):\n",
    "    log_nonvalue = log[log['steering']!=value]\n",
    "    log_value = log[log['steering']==value]\n",
    "    \n",
    "    if len(log_value)>0:\n",
    "        log_value = log_value.sample(frac=frac)\n",
    "    \n",
    "    log = log_value.append(log_nonvalue)\n",
    "    log = log.reset_index(drop=True)\n",
    "    return log"
   ]
  },
  {
   "cell_type": "code",
   "execution_count": 8,
   "metadata": {
    "collapsed": false,
    "deletable": true,
    "editable": true
   },
   "outputs": [],
   "source": [
    "driving_log = undersample(driving_log, 0, zero_frac)\n",
    "driving_log = undersample(driving_log, -1, m_frac)\n",
    "driving_log = undersample(driving_log, 1, p_frac)"
   ]
  },
  {
   "cell_type": "code",
   "execution_count": 9,
   "metadata": {
    "collapsed": false,
    "deletable": true,
    "editable": true
   },
   "outputs": [
    {
     "data": {
      "text/plain": [
       "count    16846.000000\n",
       "mean         0.002633\n",
       "std          0.490203\n",
       "min         -1.000000\n",
       "25%         -0.241327\n",
       "50%          0.000000\n",
       "75%          0.240272\n",
       "max          1.000000\n",
       "Name: steering, dtype: float64"
      ]
     },
     "execution_count": 9,
     "metadata": {},
     "output_type": "execute_result"
    }
   ],
   "source": [
    "driving_log['steering'].describe()"
   ]
  },
  {
   "cell_type": "code",
   "execution_count": 10,
   "metadata": {
    "collapsed": false,
    "deletable": true,
    "editable": true
   },
   "outputs": [
    {
     "data": {
      "image/png": "[encoded data removed]",
      "text/plain": [
       "<matplotlib.figure.Figure at 0x7f6221d1f240>"
      ]
     },
     "metadata": {},
     "output_type": "display_data"
    }
   ],
   "source": [
    "_ = driving_log['steering'].hist(bins=101, figsize=(15,5))"
   ]
  },
  {
   "cell_type": "code",
   "execution_count": 11,
   "metadata": {
    "collapsed": false,
    "deletable": true,
    "editable": true
   },
   "outputs": [],
   "source": [
    "# Build new log taking into account correction for left and right camera images \n",
    "def augment_left_right(driving_log, correction):\n",
    "    log = pd.DataFrame({'image':driving_log['center']\n",
    "                                .append(driving_log['left'])\n",
    "                                .append(driving_log['right']),\n",
    "                        'steering':driving_log['steering']\n",
    "                                .append(driving_log['steering'] + correction)\n",
    "                                .append(driving_log['steering'] - correction)})\n",
    "\n",
    "    #log = log[(log['steering']>=-1)&(log['steering']<=1)]\n",
    "    return log"
   ]
  },
  {
   "cell_type": "code",
   "execution_count": 12,
   "metadata": {
    "collapsed": false,
    "deletable": true,
    "editable": true
   },
   "outputs": [
    {
     "data": {
      "text/html": [
       "<div>\n",
       "<table border=\"1\" class=\"dataframe\">\n",
       "  <thead>\n",
       "    <tr style=\"text-align: right;\">\n",
       "      <th></th>\n",
       "      <th>image</th>\n",
       "      <th>steering</th>\n",
       "    </tr>\n",
       "  </thead>\n",
       "  <tbody>\n",
       "    <tr>\n",
       "      <th>0</th>\n",
       "      <td>data/data2back/IMG/center_2017_03_18_13_59_29_...</td>\n",
       "      <td>1.0</td>\n",
       "    </tr>\n",
       "    <tr>\n",
       "      <th>1</th>\n",
       "      <td>data/data22/IMG/center_2017_03_18_12_52_36_611...</td>\n",
       "      <td>1.0</td>\n",
       "    </tr>\n",
       "    <tr>\n",
       "      <th>2</th>\n",
       "      <td>data/data2back/IMG/center_2017_03_18_13_56_26_...</td>\n",
       "      <td>1.0</td>\n",
       "    </tr>\n",
       "    <tr>\n",
       "      <th>3</th>\n",
       "      <td>data/data22/IMG/center_2017_03_18_12_54_27_687...</td>\n",
       "      <td>1.0</td>\n",
       "    </tr>\n",
       "    <tr>\n",
       "      <th>4</th>\n",
       "      <td>data/data22/IMG/center_2017_03_18_12_52_59_807...</td>\n",
       "      <td>1.0</td>\n",
       "    </tr>\n",
       "  </tbody>\n",
       "</table>\n",
       "</div>"
      ],
      "text/plain": [
       "                                               image  steering\n",
       "0  data/data2back/IMG/center_2017_03_18_13_59_29_...       1.0\n",
       "1  data/data22/IMG/center_2017_03_18_12_52_36_611...       1.0\n",
       "2  data/data2back/IMG/center_2017_03_18_13_56_26_...       1.0\n",
       "3  data/data22/IMG/center_2017_03_18_12_54_27_687...       1.0\n",
       "4  data/data22/IMG/center_2017_03_18_12_52_59_807...       1.0"
      ]
     },
     "execution_count": 12,
     "metadata": {},
     "output_type": "execute_result"
    }
   ],
   "source": [
    "log = augment_left_right(driving_log, correction)\n",
    "\n",
    "log.head()"
   ]
  },
  {
   "cell_type": "code",
   "execution_count": 13,
   "metadata": {
    "collapsed": false,
    "deletable": true,
    "editable": true
   },
   "outputs": [
    {
     "data": {
      "text/plain": [
       "count    50538.000000\n",
       "mean         0.002633\n",
       "std          0.516679\n",
       "min         -1.200000\n",
       "25%         -0.273673\n",
       "50%          0.000000\n",
       "75%          0.287688\n",
       "max          1.200000\n",
       "Name: steering, dtype: float64"
      ]
     },
     "execution_count": 13,
     "metadata": {},
     "output_type": "execute_result"
    }
   ],
   "source": [
    "log['steering'].describe()"
   ]
  },
  {
   "cell_type": "code",
   "execution_count": 14,
   "metadata": {
    "collapsed": false,
    "deletable": true,
    "editable": true,
    "scrolled": true
   },
   "outputs": [
    {
     "data": {
      "image/png": "[encoded data removed]",
      "text/plain": [
       "<matplotlib.figure.Figure at 0x7f6221c77518>"
      ]
     },
     "metadata": {},
     "output_type": "display_data"
    }
   ],
   "source": [
    "_ = log['steering'].hist(bins=101, figsize=(15,5))"
   ]
  },
  {
   "cell_type": "code",
   "execution_count": 15,
   "metadata": {
    "collapsed": false,
    "deletable": true,
    "editable": true
   },
   "outputs": [],
   "source": [
    "# Shuffle final log DataFrame\n",
    "log = log.sample(frac=1).reset_index(drop=True)  "
   ]
  },
  {
   "cell_type": "markdown",
   "metadata": {
    "deletable": true,
    "editable": true
   },
   "source": [
    "## Build Training and Validation Data"
   ]
  },
  {
   "cell_type": "code",
   "execution_count": 16,
   "metadata": {
    "collapsed": false,
    "deletable": true,
    "editable": true
   },
   "outputs": [
    {
     "name": "stderr",
     "output_type": "stream",
     "text": [
      "Using TensorFlow backend.\n"
     ]
    }
   ],
   "source": [
    "import cv2\n",
    "import numpy as np\n",
    "import pandas as pd\n",
    "import matplotlib.pyplot as plt\n",
    "import matplotlib.image as mpimg\n",
    "\n",
    "from keras.models import Sequential\n",
    "from keras.layers import Flatten, Dense, Lambda, Cropping2D, Dropout\n",
    "from keras.layers.convolutional import Convolution2D\n",
    "\n",
    "from sklearn.model_selection import train_test_split\n",
    "import sklearn\n",
    "%matplotlib inline"
   ]
  },
  {
   "cell_type": "code",
   "execution_count": 17,
   "metadata": {
    "collapsed": false,
    "deletable": true,
    "editable": true
   },
   "outputs": [
    {
     "data": {
      "text/plain": [
       "((50538, 2), (40430, 2), (10108, 2))"
      ]
     },
     "execution_count": 17,
     "metadata": {},
     "output_type": "execute_result"
    }
   ],
   "source": [
    "# Train / Validation split\n",
    "train_log, validation_log = train_test_split(log, test_size=0.2)\n",
    "\n",
    "train_log = train_log.reset_index(drop=True)\n",
    "validation_log = validation_log.reset_index(drop=True)\n",
    "\n",
    "log.shape, train_log.shape, validation_log.shape"
   ]
  },
  {
   "cell_type": "raw",
   "metadata": {
    "collapsed": false,
    "deletable": true,
    "editable": true,
    "scrolled": true
   },
   "source": [
    "# Plotting typical images in HSV and YUV color spaces\n",
    "import glob\n",
    "\n",
    "images = glob.glob('examples/Track1/*.*') + glob.glob('examples/Track2/*.*')\n",
    "\n",
    "fig, axs = plt.subplots(8, 7, figsize=(20, 2*8))\n",
    "    \n",
    "i = 0    \n",
    "for i in range(8):\n",
    "    filename = images[i]\n",
    "    image = mpimg.imread(filename)\n",
    "    axs[i,0].axis('off')\n",
    "    axs[i,0].imshow(image)\n",
    "    axs[i,0].set_title('RGB') \n",
    "\n",
    "    axs[i,1].axis('off')\n",
    "    axs[i,1].imshow(cv2.cvtColor(image, cv2.COLOR_RGB2HSV)[:,:,0])\n",
    "    axs[i,1].set_title('H of HSV') \n",
    "    \n",
    "    axs[i,2].axis('off')\n",
    "    axs[i,2].imshow(cv2.cvtColor(image, cv2.COLOR_RGB2HSV)[:,:,1])\n",
    "    axs[i,2].set_title('S of HSV') \n",
    "    \n",
    "    axs[i,3].axis('off')\n",
    "    axs[i,3].imshow(cv2.cvtColor(image, cv2.COLOR_RGB2HSV)[:,:,2])\n",
    "    axs[i,3].set_title('V of HSV') \n",
    "    \n",
    "    axs[i,4].axis('off')\n",
    "    axs[i,4].imshow(cv2.cvtColor(image, cv2.COLOR_RGB2YUV)[:,:,0])\n",
    "    axs[i,4].set_title('Y of YUV') \n",
    "\n",
    "    axs[i,5].axis('off')\n",
    "    axs[i,5].imshow(cv2.cvtColor(image, cv2.COLOR_RGB2YUV)[:,:,1])\n",
    "    axs[i,5].set_title('U of YUV') \n",
    "   \n",
    "    axs[i,6].axis('off')\n",
    "    axs[i,6].imshow(cv2.cvtColor(image, cv2.COLOR_RGB2YUV)[:,:,2])\n",
    "    axs[i,6].set_title('V of YUV') \n"
   ]
  },
  {
   "cell_type": "code",
   "execution_count": 18,
   "metadata": {
    "collapsed": true,
    "deletable": true,
    "editable": true
   },
   "outputs": [],
   "source": [
    "# Image preprocessing (except normalization and cropping that are done in CNN layers)\n",
    "def preprocess(image):\n",
    "    image = cv2.cvtColor(image, cv2.COLOR_RGB2HSV)[:,:,1:]\n",
    "    \n",
    "    return image"
   ]
  },
  {
   "cell_type": "code",
   "execution_count": 19,
   "metadata": {
    "collapsed": false,
    "deletable": true,
    "editable": true
   },
   "outputs": [],
   "source": [
    "# Get X,y from the log. Augmentation with flipped images is applied\n",
    "def get_data(log):    \n",
    "    images = []\n",
    "    steerings = []\n",
    "    \n",
    "    for _, row in log.iterrows():\n",
    "        filename = row['image'].strip()\n",
    "        image = preprocess(mpimg.imread(filename))\n",
    "        image_flip = cv2.flip(image, 1)\n",
    "        if layers==1:\n",
    "            image_flip = image_flip[:,:,None]\n",
    "        \n",
    "        steering = row['steering']\n",
    "\n",
    "        images.extend([image, image_flip])\n",
    "        steerings.extend([steering, -steering])\n",
    "\n",
    "    X, y = np.array(images), np.array(steerings)\n",
    "    X, y = sklearn.utils.shuffle(X, y)\n",
    "    \n",
    "    return X, y"
   ]
  },
  {
   "cell_type": "code",
   "execution_count": 20,
   "metadata": {
    "collapsed": true,
    "deletable": true,
    "editable": true
   },
   "outputs": [],
   "source": [
    "def generator(sample_log, batch_size):\n",
    "    n_rows = len(sample_log)\n",
    "    while 1: # Loop forever so the generator never terminates\n",
    "        sample_log = sample_log.sample(frac=1).reset_index(drop=True)  #shuffle sample_log DataFrame\n",
    "        \n",
    "        for offset in range(0, n_rows, batch_size):\n",
    "            batch_log = sample_log[offset : offset + batch_size]\n",
    "\n",
    "            X, y = get_data(batch_log)\n",
    "            \n",
    "            yield X, y "
   ]
  },
  {
   "cell_type": "code",
   "execution_count": 21,
   "metadata": {
    "collapsed": false,
    "deletable": true,
    "editable": true
   },
   "outputs": [],
   "source": [
    "# Train and Validation generators\n",
    "train_generator = generator(train_log, batch_size=BATCHES)\n",
    "validation_generator = generator(validation_log, batch_size=BATCHES)"
   ]
  },
  {
   "cell_type": "markdown",
   "metadata": {
    "deletable": true,
    "editable": true
   },
   "source": [
    "## Compile and train the model"
   ]
  },
  {
   "cell_type": "code",
   "execution_count": 22,
   "metadata": {
    "collapsed": false,
    "deletable": true,
    "editable": true,
    "scrolled": false
   },
   "outputs": [],
   "source": [
    "model = Sequential()\n",
    "model.add(Lambda(lambda x: x/255.0 - 0.5, input_shape=(160,320,layers)))\n",
    "model.add(Cropping2D(cropping=((top_crop, bottom_crop), (left_crop, right_crop)), input_shape=(160,320,layers)))\n",
    "\n",
    "model.add(Convolution2D(24,5,5, subsample=(2,2), activation='relu'))\n",
    "model.add(Convolution2D(36,5,5, subsample=(2,2), activation='relu'))\n",
    "model.add(Convolution2D(48,5,5, subsample=(2,2), activation='relu'))\n",
    "model.add(Convolution2D(64,3,3, activation='relu'))\n",
    "model.add(Convolution2D(64,3,3, activation='relu'))\n",
    "\n",
    "model.add(Flatten())\n",
    "\n",
    "model.add(Dropout(0.5))\n",
    "\n",
    "model.add(Dense(100))\n",
    "model.add(Dense(50))\n",
    "model.add(Dense(10))\n",
    "model.add(Dense(1))\n",
    "\n"
   ]
  },
  {
   "cell_type": "code",
   "execution_count": 23,
   "metadata": {
    "collapsed": false
   },
   "outputs": [
    {
     "name": "stderr",
     "output_type": "stream",
     "text": [
      "/home/carnd/anaconda3/envs/carnd-term1/lib/python3.5/site-packages/keras/engine/training.py:1569: UserWarning: Epoch comprised more than `samples_per_epoch` samples, which might affect learning results. Set `samples_per_epoch` correctly to avoid this warning.\n",
      "  warnings.warn('Epoch comprised more than '\n"
     ]
    }
   ],
   "source": [
    "model.compile(loss='mse', optimizer='adam')\n",
    "\n",
    "history_object = model.fit_generator(train_generator,\n",
    "                                     samples_per_epoch = len(train_log),\n",
    "                                     validation_data = validation_generator, \n",
    "                                     nb_val_samples=len(validation_log),\n",
    "                                     nb_epoch=EPOCHS,\n",
    "                                     verbose=0)\n",
    "\n",
    "model.save('model.h5')"
   ]
  },
  {
   "cell_type": "code",
   "execution_count": 24,
   "metadata": {
    "collapsed": false,
    "deletable": true,
    "editable": true,
    "scrolled": true
   },
   "outputs": [
    {
     "name": "stdout",
     "output_type": "stream",
     "text": [
      "dict_keys(['loss', 'val_loss'])\n"
     ]
    },
    {
     "data": {
      "text/plain": [
       "<matplotlib.legend.Legend at 0x7f61d84dbe48>"
      ]
     },
     "execution_count": 24,
     "metadata": {},
     "output_type": "execute_result"
    },
    {
     "data": {
      "image/png": "[encoded data removed]",
      "text/plain": [
       "<matplotlib.figure.Figure at 0x7f61e21d8160>"
      ]
     },
     "metadata": {},
     "output_type": "display_data"
    }
   ],
   "source": [
    "### print the keys contained in the history object\n",
    "print(history_object.history.keys())\n",
    "\n",
    "### plot the training and validation loss for each epoch\n",
    "plt.plot(history_object.history['loss'])\n",
    "plt.plot(history_object.history['val_loss'])\n",
    "plt.title('model mean squared error loss')\n",
    "plt.ylabel('mean squared error loss')\n",
    "plt.xlabel('epoch')\n",
    "plt.legend(['training set', 'validation set'], loc='upper right')"
   ]
  },
  {
   "cell_type": "code",
   "execution_count": 25,
   "metadata": {
    "collapsed": false,
    "deletable": true,
    "editable": true
   },
   "outputs": [
    {
     "ename": "ImportError",
     "evalue": "cannot import name 'plot_model'",
     "output_type": "error",
     "traceback": [
      "\u001b[0;31m---------------------------------------------------------------------------\u001b[0m",
      "\u001b[0;31mImportError\u001b[0m                               Traceback (most recent call last)",
      "\u001b[0;32m<ipython-input-25-437440fcd987>\u001b[0m in \u001b[0;36m<module>\u001b[0;34m()\u001b[0m\n\u001b[0;32m----> 1\u001b[0;31m \u001b[0;32mfrom\u001b[0m \u001b[0mkeras\u001b[0m\u001b[0;34m.\u001b[0m\u001b[0mutils\u001b[0m \u001b[0;32mimport\u001b[0m \u001b[0mplot_model\u001b[0m\u001b[0;34m\u001b[0m\u001b[0m\n\u001b[0m\u001b[1;32m      2\u001b[0m \u001b[0mplot_model\u001b[0m\u001b[0;34m(\u001b[0m\u001b[0mmodel\u001b[0m\u001b[0;34m,\u001b[0m \u001b[0mto_file\u001b[0m\u001b[0;34m=\u001b[0m\u001b[0;34m'model.png'\u001b[0m\u001b[0;34m)\u001b[0m\u001b[0;34m\u001b[0m\u001b[0m\n",
      "\u001b[0;31mImportError\u001b[0m: cannot import name 'plot_model'"
     ]
    }
   ],
   "source": [
    "from keras.utils import plot_model\n",
    "plot_model(model, to_file='model.png')"
   ]
  },
  {
   "cell_type": "code",
   "execution_count": null,
   "metadata": {
    "collapsed": false
   },
   "outputs": [],
   "source": [
    "from IPython.display import SVG\n",
    "from keras.utils.visualize_util import model_to_dot\n",
    "\n",
    "SVG(model_to_dot(model).create(prog='dot', format='svg'))"
   ]
  },
  {
   "cell_type": "code",
   "execution_count": null,
   "metadata": {
    "collapsed": true
   },
   "outputs": [],
   "source": []
  }
 ],
 "metadata": {
  "kernelspec": {
   "display_name": "Python 3",
   "language": "python",
   "name": "python3"
  },
  "language_info": {
   "codemirror_mode": {
    "name": "ipython",
    "version": 3
   },
   "file_extension": ".py",
   "mimetype": "text/x-python",
   "name": "python",
   "nbconvert_exporter": "python",
   "pygments_lexer": "ipython3",
   "version": "3.5.2"
  },
  "widgets": {
   "state": {},
   "version": "1.1.2"
  }
 },
 "nbformat": 4,
 "nbformat_minor": 2
}
