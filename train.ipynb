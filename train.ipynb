{
 "cells": [
  {
   "cell_type": "code",
   "execution_count": null,
   "metadata": {
    "collapsed": true,
    "deletable": true,
    "editable": true
   },
   "outputs": [],
   "source": [
    "import csv\n",
    "import cv2\n",
    "import numpy as np\n",
    "import pandas as pd\n",
    "import matplotlib.pyplot as plt\n",
    "import matplotlib.image as mpimg"
   ]
  },
  {
   "cell_type": "code",
   "execution_count": null,
   "metadata": {
    "collapsed": true,
    "deletable": true,
    "editable": true
   },
   "outputs": [],
   "source": [
    "%matplotlib inline"
   ]
  },
  {
   "cell_type": "code",
   "execution_count": null,
   "metadata": {
    "collapsed": false,
    "deletable": true,
    "editable": true
   },
   "outputs": [],
   "source": [
    "log = pd.read_csv('data/driving_log.csv', nrows=10)\n",
    "log.head()\n"
   ]
  },
  {
   "cell_type": "code",
   "execution_count": null,
   "metadata": {
    "collapsed": false,
    "deletable": true,
    "editable": true
   },
   "outputs": [],
   "source": [
    "log = pd.read_csv('data/driving_log.csv', usecols=['center', 'left', 'right', 'steering'])\n",
    "#log = log[log['steering']!=0].reset_index()\n",
    "log.head()"
   ]
  },
  {
   "cell_type": "code",
   "execution_count": null,
   "metadata": {
    "collapsed": true,
    "deletable": true,
    "editable": true
   },
   "outputs": [],
   "source": []
  },
  {
   "cell_type": "code",
   "execution_count": null,
   "metadata": {
    "collapsed": true,
    "deletable": true,
    "editable": true
   },
   "outputs": [],
   "source": [
    "def preprocess(image):\n",
    "    #image = np.array(image)\n",
    "    image = cv2.cvtColor(image, cv2.COLOR_RGB2HSV)[:,:,1]\n",
    "    image = image/255 - 0.5\n",
    "    image = image[:,:,None]\n",
    "    \n",
    "    return image"
   ]
  },
  {
   "cell_type": "raw",
   "metadata": {
    "collapsed": false,
    "deletable": true,
    "editable": true
   },
   "source": [
    "def process_show(num):\n",
    "    image_pos = ['left', 'center', 'right'] \n",
    "    \n",
    "    images = []\n",
    "    \n",
    "    print(log['steering'][num])\n",
    "    \n",
    "    \n",
    "    for pos in image_pos:\n",
    "        filename = 'data/'+log[pos][num].strip()\n",
    "    \n",
    "        images += [mpimg.imread(filename)]\n",
    "        \n",
    "        images += [cv2.flip(images[-1], 1)]\n",
    "\n",
    "        #images += [cv2.cvtColor(images[0], cv2.COLOR_RGB2GRAY)]\n",
    "    \n",
    "        #images += [cv2.cvtColor(images[0], cv2.COLOR_RGB2YUV)[:,:,2]]\n",
    "    \n",
    "        images += [cv2.cvtColor(images[-1], cv2.COLOR_RGB2HSV)[:,:,1]]\n",
    "    \n",
    "      \n",
    "        #low_threshold, high_threshold = 150, 255\n",
    "        #images += [cv2.Canny(images[-1], low_threshold, high_threshold)]\n",
    "    \n",
    "        #images += [cv2.bitwise_or(images[-1], images[-2])]\n",
    "\n",
    "    n_rows = len(image_pos)\n",
    "    n_cols = len(images)//n_rows\n",
    "    fig, axs = plt.subplots(n_rows, n_cols, figsize=(17, 3*n_rows))\n",
    "    axs = axs.ravel()\n",
    "    \n",
    "    i = 0\n",
    "    for image in images:\n",
    "        #image = normalize(image) \n",
    "        axs[i].imshow(image, cmap='gray')\n",
    "        axs[i].set_title(image.shape)\n",
    "        i+=1"
   ]
  },
  {
   "cell_type": "raw",
   "metadata": {
    "collapsed": false,
    "deletable": true,
    "editable": true
   },
   "source": [
    "process_show(310)"
   ]
  },
  {
   "cell_type": "code",
   "execution_count": null,
   "metadata": {
    "collapsed": false,
    "deletable": true,
    "editable": true
   },
   "outputs": [],
   "source": [
    "_ = log['steering'].hist(bins=100)"
   ]
  },
  {
   "cell_type": "code",
   "execution_count": null,
   "metadata": {
    "collapsed": false,
    "deletable": true,
    "editable": true
   },
   "outputs": [],
   "source": [
    "log['steering'].describe()"
   ]
  },
  {
   "cell_type": "code",
   "execution_count": null,
   "metadata": {
    "collapsed": false,
    "deletable": true,
    "editable": true
   },
   "outputs": [],
   "source": [
    "images = []\n",
    "measurements = []\n",
    "\n",
    "for i in range(len(log)):\n",
    "    filename = 'data/'+log['center'][i].strip()\n",
    "    \n",
    "    image = mpimg.imread(filename)\n",
    "    image = preprocess(image)\n",
    "    measurement = log['steering'][i]\n",
    "    \n",
    "    images.append(image)\n",
    "    images.append(cv2.flip(image, 1)[:,:,None])\n",
    "    \n",
    "    measurements.append(measurement)\n",
    "    measurements.append(-measurement)"
   ]
  },
  {
   "cell_type": "code",
   "execution_count": null,
   "metadata": {
    "collapsed": false,
    "deletable": true,
    "editable": true
   },
   "outputs": [],
   "source": [
    "plt.imshow(images[310].squeeze())"
   ]
  },
  {
   "cell_type": "code",
   "execution_count": null,
   "metadata": {
    "collapsed": false,
    "deletable": true,
    "editable": true
   },
   "outputs": [],
   "source": [
    "plt.imshow(images[311].squeeze())"
   ]
  },
  {
   "cell_type": "raw",
   "metadata": {
    "collapsed": true,
    "deletable": true,
    "editable": true
   },
   "source": [
    "measurements = list(log['steering'])"
   ]
  },
  {
   "cell_type": "raw",
   "metadata": {
    "collapsed": false,
    "deletable": true,
    "editable": true
   },
   "source": [
    "augmented_images, augmented_measurements = [], []\n",
    "\n",
    "for image, measurement in zip(images, measurements):\n",
    "    augmented_images.append(image)\n",
    "    augmented_measurements.append(measurement)\n",
    "    augmented_images.append(cv2.flip(image, 1)[:,:,None])\n",
    "    augmented_measurements.append(-measurement)    "
   ]
  },
  {
   "cell_type": "code",
   "execution_count": null,
   "metadata": {
    "collapsed": false,
    "deletable": true,
    "editable": true
   },
   "outputs": [],
   "source": [
    "X_train = np.array(images)\n",
    "y_train = np.array(measurements)"
   ]
  },
  {
   "cell_type": "code",
   "execution_count": null,
   "metadata": {
    "collapsed": false,
    "deletable": true,
    "editable": true
   },
   "outputs": [],
   "source": [
    "from keras.models import Sequential\n",
    "from keras.layers import Flatten, Dense, Lambda, Cropping2D\n",
    "from keras.layers.convolutional import Convolution2D"
   ]
  },
  {
   "cell_type": "code",
   "execution_count": null,
   "metadata": {
    "collapsed": false,
    "deletable": true,
    "editable": true
   },
   "outputs": [],
   "source": [
    "model = Sequential()\n",
    "#model.add(Lambda(lambda x: x/255.0 - 0.5, input_shape=(160,320,1)))\n",
    "model.add(Cropping2D(cropping=((70,25), (0,0)), input_shape=(160,320,1)))\n",
    "model.add(Flatten())\n",
    "model.add(Dense(1))\n",
    "\n",
    "model.compile(loss='mse', optimizer='adam')\n",
    "model.fit(X_train, y_train, validation_split=0.2, shuffle=True, nb_epoch=2) "
   ]
  },
  {
   "cell_type": "code",
   "execution_count": null,
   "metadata": {
    "collapsed": false,
    "deletable": true,
    "editable": true
   },
   "outputs": [],
   "source": [
    "model.predict(X_train[0][None,:,:,:])"
   ]
  },
  {
   "cell_type": "code",
   "execution_count": null,
   "metadata": {
    "collapsed": false,
    "deletable": true,
    "editable": true
   },
   "outputs": [],
   "source": [
    "model.save('model.h5')"
   ]
  },
  {
   "cell_type": "code",
   "execution_count": null,
   "metadata": {
    "collapsed": false,
    "deletable": true,
    "editable": true
   },
   "outputs": [],
   "source": [
    "import keras.models as km"
   ]
  },
  {
   "cell_type": "code",
   "execution_count": null,
   "metadata": {
    "collapsed": false,
    "deletable": true,
    "editable": true
   },
   "outputs": [],
   "source": [
    "model1 = km.load_model('model.h5')"
   ]
  },
  {
   "cell_type": "code",
   "execution_count": null,
   "metadata": {
    "collapsed": false,
    "deletable": true,
    "editable": true
   },
   "outputs": [],
   "source": [
    "model.predict(X_train[0][None,:,:,:])"
   ]
  },
  {
   "cell_type": "code",
   "execution_count": null,
   "metadata": {
    "collapsed": true,
    "deletable": true,
    "editable": true
   },
   "outputs": [],
   "source": []
  }
 ],
 "metadata": {
  "kernelspec": {
   "display_name": "Python 3",
   "language": "python",
   "name": "python3"
  },
  "language_info": {
   "codemirror_mode": {
    "name": "ipython",
    "version": 3
   },
   "file_extension": ".py",
   "mimetype": "text/x-python",
   "name": "python",
   "nbconvert_exporter": "python",
   "pygments_lexer": "ipython3",
   "version": "3.5.2"
  },
  "widgets": {
   "state": {},
   "version": "1.1.2"
  }
 },
 "nbformat": 4,
 "nbformat_minor": 2
}
