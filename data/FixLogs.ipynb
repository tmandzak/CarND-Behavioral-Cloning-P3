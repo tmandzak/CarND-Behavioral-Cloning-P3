{
 "cells": [
  {
   "cell_type": "code",
   "execution_count": 1,
   "metadata": {
    "collapsed": false,
    "deletable": true,
    "editable": true
   },
   "outputs": [],
   "source": [
    "import pandas as pd"
   ]
  },
  {
   "cell_type": "code",
   "execution_count": 2,
   "metadata": {
    "collapsed": false
   },
   "outputs": [
    {
     "data": {
      "text/html": [
       "<div>\n",
       "<table border=\"1\" class=\"dataframe\">\n",
       "  <thead>\n",
       "    <tr style=\"text-align: right;\">\n",
       "      <th></th>\n",
       "      <th>center</th>\n",
       "      <th>left</th>\n",
       "      <th>right</th>\n",
       "      <th>steering</th>\n",
       "      <th>throttle</th>\n",
       "      <th>brake</th>\n",
       "      <th>speed</th>\n",
       "    </tr>\n",
       "  </thead>\n",
       "  <tbody>\n",
       "    <tr>\n",
       "      <th>0</th>\n",
       "      <td>data/data22/IMG/center_2017_03_18_12_40_55_930...</td>\n",
       "      <td>data/data22/IMG/left_2017_03_18_12_40_55_930.jpg</td>\n",
       "      <td>data/data22/IMG/right_2017_03_18_12_40_55_930.jpg</td>\n",
       "      <td>0.0</td>\n",
       "      <td>0.0</td>\n",
       "      <td>0.0</td>\n",
       "      <td>5.070753</td>\n",
       "    </tr>\n",
       "    <tr>\n",
       "      <th>1</th>\n",
       "      <td>data/data22/IMG/center_2017_03_18_12_40_56_003...</td>\n",
       "      <td>data/data22/IMG/left_2017_03_18_12_40_56_003.jpg</td>\n",
       "      <td>data/data22/IMG/right_2017_03_18_12_40_56_003.jpg</td>\n",
       "      <td>0.0</td>\n",
       "      <td>0.0</td>\n",
       "      <td>0.0</td>\n",
       "      <td>5.030000</td>\n",
       "    </tr>\n",
       "    <tr>\n",
       "      <th>2</th>\n",
       "      <td>data/data22/IMG/center_2017_03_18_12_40_56_074...</td>\n",
       "      <td>data/data22/IMG/left_2017_03_18_12_40_56_074.jpg</td>\n",
       "      <td>data/data22/IMG/right_2017_03_18_12_40_56_074.jpg</td>\n",
       "      <td>0.0</td>\n",
       "      <td>0.0</td>\n",
       "      <td>0.0</td>\n",
       "      <td>4.999651</td>\n",
       "    </tr>\n",
       "    <tr>\n",
       "      <th>3</th>\n",
       "      <td>data/data22/IMG/center_2017_03_18_12_40_56_148...</td>\n",
       "      <td>data/data22/IMG/left_2017_03_18_12_40_56_148.jpg</td>\n",
       "      <td>data/data22/IMG/right_2017_03_18_12_40_56_148.jpg</td>\n",
       "      <td>0.0</td>\n",
       "      <td>0.0</td>\n",
       "      <td>0.0</td>\n",
       "      <td>4.959469</td>\n",
       "    </tr>\n",
       "    <tr>\n",
       "      <th>4</th>\n",
       "      <td>data/data22/IMG/center_2017_03_18_12_40_56_219...</td>\n",
       "      <td>data/data22/IMG/left_2017_03_18_12_40_56_219.jpg</td>\n",
       "      <td>data/data22/IMG/right_2017_03_18_12_40_56_219.jpg</td>\n",
       "      <td>0.0</td>\n",
       "      <td>0.0</td>\n",
       "      <td>0.0</td>\n",
       "      <td>4.919609</td>\n",
       "    </tr>\n",
       "  </tbody>\n",
       "</table>\n",
       "</div>"
      ],
      "text/plain": [
       "                                              center  \\\n",
       "0  data/data22/IMG/center_2017_03_18_12_40_55_930...   \n",
       "1  data/data22/IMG/center_2017_03_18_12_40_56_003...   \n",
       "2  data/data22/IMG/center_2017_03_18_12_40_56_074...   \n",
       "3  data/data22/IMG/center_2017_03_18_12_40_56_148...   \n",
       "4  data/data22/IMG/center_2017_03_18_12_40_56_219...   \n",
       "\n",
       "                                               left  \\\n",
       "0  data/data22/IMG/left_2017_03_18_12_40_55_930.jpg   \n",
       "1  data/data22/IMG/left_2017_03_18_12_40_56_003.jpg   \n",
       "2  data/data22/IMG/left_2017_03_18_12_40_56_074.jpg   \n",
       "3  data/data22/IMG/left_2017_03_18_12_40_56_148.jpg   \n",
       "4  data/data22/IMG/left_2017_03_18_12_40_56_219.jpg   \n",
       "\n",
       "                                               right  steering  throttle  \\\n",
       "0  data/data22/IMG/right_2017_03_18_12_40_55_930.jpg       0.0       0.0   \n",
       "1  data/data22/IMG/right_2017_03_18_12_40_56_003.jpg       0.0       0.0   \n",
       "2  data/data22/IMG/right_2017_03_18_12_40_56_074.jpg       0.0       0.0   \n",
       "3  data/data22/IMG/right_2017_03_18_12_40_56_148.jpg       0.0       0.0   \n",
       "4  data/data22/IMG/right_2017_03_18_12_40_56_219.jpg       0.0       0.0   \n",
       "\n",
       "   brake     speed  \n",
       "0    0.0  5.070753  \n",
       "1    0.0  5.030000  \n",
       "2    0.0  4.999651  \n",
       "3    0.0  4.959469  \n",
       "4    0.0  4.919609  "
      ]
     },
     "execution_count": 2,
     "metadata": {},
     "output_type": "execute_result"
    }
   ],
   "source": [
    "driving_log_fwd = pd.read_csv('data22/driving_log.csv', header=None, names=['center', 'left', 'right', 'steering', 'throttle', 'brake', 'speed'])#, usecols=['center', 'left', 'right', 'steering']) \n",
    "\n",
    "s = 'data22/'\n",
    "d = 'data/data22/'\n",
    "\n",
    "driving_log_fwd['center'] = driving_log_fwd['center'].str.replace(s,d)\n",
    "driving_log_fwd['left'] = driving_log_fwd['left'].str.replace(s,d)\n",
    "driving_log_fwd['right'] = driving_log_fwd['right'].str.replace(s,d)\n",
    "\n",
    "driving_log_fwd.head()"
   ]
  },
  {
   "cell_type": "code",
   "execution_count": 3,
   "metadata": {
    "collapsed": false
   },
   "outputs": [
    {
     "data": {
      "text/html": [
       "<div>\n",
       "<table border=\"1\" class=\"dataframe\">\n",
       "  <thead>\n",
       "    <tr style=\"text-align: right;\">\n",
       "      <th></th>\n",
       "      <th>center</th>\n",
       "      <th>left</th>\n",
       "      <th>right</th>\n",
       "      <th>steering</th>\n",
       "      <th>throttle</th>\n",
       "      <th>brake</th>\n",
       "      <th>speed</th>\n",
       "    </tr>\n",
       "  </thead>\n",
       "  <tbody>\n",
       "    <tr>\n",
       "      <th>0</th>\n",
       "      <td>data/data2back/IMG/center_2017_03_18_13_49_56_...</td>\n",
       "      <td>data/data2back/IMG/left_2017_03_18_13_49_56_28...</td>\n",
       "      <td>data/data2back/IMG/right_2017_03_18_13_49_56_2...</td>\n",
       "      <td>0.0</td>\n",
       "      <td>0.0</td>\n",
       "      <td>0.0</td>\n",
       "      <td>0.246354</td>\n",
       "    </tr>\n",
       "    <tr>\n",
       "      <th>1</th>\n",
       "      <td>data/data2back/IMG/center_2017_03_18_13_49_56_...</td>\n",
       "      <td>data/data2back/IMG/left_2017_03_18_13_49_56_36...</td>\n",
       "      <td>data/data2back/IMG/right_2017_03_18_13_49_56_3...</td>\n",
       "      <td>0.0</td>\n",
       "      <td>0.0</td>\n",
       "      <td>0.0</td>\n",
       "      <td>0.224247</td>\n",
       "    </tr>\n",
       "    <tr>\n",
       "      <th>2</th>\n",
       "      <td>data/data2back/IMG/center_2017_03_18_13_49_56_...</td>\n",
       "      <td>data/data2back/IMG/left_2017_03_18_13_49_56_43...</td>\n",
       "      <td>data/data2back/IMG/right_2017_03_18_13_49_56_4...</td>\n",
       "      <td>0.0</td>\n",
       "      <td>0.0</td>\n",
       "      <td>0.0</td>\n",
       "      <td>0.194979</td>\n",
       "    </tr>\n",
       "    <tr>\n",
       "      <th>3</th>\n",
       "      <td>data/data2back/IMG/center_2017_03_18_13_49_56_...</td>\n",
       "      <td>data/data2back/IMG/left_2017_03_18_13_49_56_51...</td>\n",
       "      <td>data/data2back/IMG/right_2017_03_18_13_49_56_5...</td>\n",
       "      <td>0.0</td>\n",
       "      <td>0.0</td>\n",
       "      <td>0.0</td>\n",
       "      <td>0.165964</td>\n",
       "    </tr>\n",
       "    <tr>\n",
       "      <th>4</th>\n",
       "      <td>data/data2back/IMG/center_2017_03_18_13_49_56_...</td>\n",
       "      <td>data/data2back/IMG/left_2017_03_18_13_49_56_58...</td>\n",
       "      <td>data/data2back/IMG/right_2017_03_18_13_49_56_5...</td>\n",
       "      <td>0.0</td>\n",
       "      <td>0.0</td>\n",
       "      <td>0.0</td>\n",
       "      <td>0.137189</td>\n",
       "    </tr>\n",
       "  </tbody>\n",
       "</table>\n",
       "</div>"
      ],
      "text/plain": [
       "                                              center  \\\n",
       "0  data/data2back/IMG/center_2017_03_18_13_49_56_...   \n",
       "1  data/data2back/IMG/center_2017_03_18_13_49_56_...   \n",
       "2  data/data2back/IMG/center_2017_03_18_13_49_56_...   \n",
       "3  data/data2back/IMG/center_2017_03_18_13_49_56_...   \n",
       "4  data/data2back/IMG/center_2017_03_18_13_49_56_...   \n",
       "\n",
       "                                                left  \\\n",
       "0  data/data2back/IMG/left_2017_03_18_13_49_56_28...   \n",
       "1  data/data2back/IMG/left_2017_03_18_13_49_56_36...   \n",
       "2  data/data2back/IMG/left_2017_03_18_13_49_56_43...   \n",
       "3  data/data2back/IMG/left_2017_03_18_13_49_56_51...   \n",
       "4  data/data2back/IMG/left_2017_03_18_13_49_56_58...   \n",
       "\n",
       "                                               right  steering  throttle  \\\n",
       "0  data/data2back/IMG/right_2017_03_18_13_49_56_2...       0.0       0.0   \n",
       "1  data/data2back/IMG/right_2017_03_18_13_49_56_3...       0.0       0.0   \n",
       "2  data/data2back/IMG/right_2017_03_18_13_49_56_4...       0.0       0.0   \n",
       "3  data/data2back/IMG/right_2017_03_18_13_49_56_5...       0.0       0.0   \n",
       "4  data/data2back/IMG/right_2017_03_18_13_49_56_5...       0.0       0.0   \n",
       "\n",
       "   brake     speed  \n",
       "0    0.0  0.246354  \n",
       "1    0.0  0.224247  \n",
       "2    0.0  0.194979  \n",
       "3    0.0  0.165964  \n",
       "4    0.0  0.137189  "
      ]
     },
     "execution_count": 3,
     "metadata": {},
     "output_type": "execute_result"
    }
   ],
   "source": [
    "driving_log_back = pd.read_csv('data2back/driving_log.csv', header=None, names=['center', 'left', 'right', 'steering', 'throttle', 'brake', 'speed'])#, usecols=['center', 'left', 'right', 'steering']) \n",
    "\n",
    "s = 'data2back/'\n",
    "d = 'data/data2back/'\n",
    "\n",
    "driving_log_back['center'] = driving_log_back['center'].str.replace(s,d)\n",
    "driving_log_back['left'] = driving_log_back['left'].str.replace(s,d)\n",
    "driving_log_back['right'] = driving_log_back['right'].str.replace(s,d)\n",
    "\n",
    "driving_log_back.head()"
   ]
  },
  {
   "cell_type": "code",
   "execution_count": 4,
   "metadata": {
    "collapsed": false
   },
   "outputs": [
    {
     "data": {
      "text/html": [
       "<div>\n",
       "<table border=\"1\" class=\"dataframe\">\n",
       "  <thead>\n",
       "    <tr style=\"text-align: right;\">\n",
       "      <th></th>\n",
       "      <th>center</th>\n",
       "      <th>left</th>\n",
       "      <th>right</th>\n",
       "      <th>steering</th>\n",
       "      <th>throttle</th>\n",
       "      <th>brake</th>\n",
       "      <th>speed</th>\n",
       "    </tr>\n",
       "  </thead>\n",
       "  <tbody>\n",
       "    <tr>\n",
       "      <th>0</th>\n",
       "      <td>data/data/IMG/center_2016_12_01_13_30_48_287.jpg</td>\n",
       "      <td>data/data/IMG/left_2016_12_01_13_30_48_287.jpg</td>\n",
       "      <td>data/data/IMG/right_2016_12_01_13_30_48_287.jpg</td>\n",
       "      <td>0.0</td>\n",
       "      <td>0.0</td>\n",
       "      <td>0.0</td>\n",
       "      <td>22.148290</td>\n",
       "    </tr>\n",
       "    <tr>\n",
       "      <th>1</th>\n",
       "      <td>data/data/IMG/center_2016_12_01_13_30_48_404.jpg</td>\n",
       "      <td>data/data/IMG/left_2016_12_01_13_30_48_404.jpg</td>\n",
       "      <td>data/data/IMG/right_2016_12_01_13_30_48_404.jpg</td>\n",
       "      <td>0.0</td>\n",
       "      <td>0.0</td>\n",
       "      <td>0.0</td>\n",
       "      <td>21.879630</td>\n",
       "    </tr>\n",
       "    <tr>\n",
       "      <th>2</th>\n",
       "      <td>data/data/IMG/center_2016_12_01_13_31_12_937.jpg</td>\n",
       "      <td>data/data/IMG/left_2016_12_01_13_31_12_937.jpg</td>\n",
       "      <td>data/data/IMG/right_2016_12_01_13_31_12_937.jpg</td>\n",
       "      <td>0.0</td>\n",
       "      <td>0.0</td>\n",
       "      <td>0.0</td>\n",
       "      <td>1.453011</td>\n",
       "    </tr>\n",
       "    <tr>\n",
       "      <th>3</th>\n",
       "      <td>data/data/IMG/center_2016_12_01_13_31_13_037.jpg</td>\n",
       "      <td>data/data/IMG/left_2016_12_01_13_31_13_037.jpg</td>\n",
       "      <td>data/data/IMG/right_2016_12_01_13_31_13_037.jpg</td>\n",
       "      <td>0.0</td>\n",
       "      <td>0.0</td>\n",
       "      <td>0.0</td>\n",
       "      <td>1.438419</td>\n",
       "    </tr>\n",
       "    <tr>\n",
       "      <th>4</th>\n",
       "      <td>data/data/IMG/center_2016_12_01_13_31_13_177.jpg</td>\n",
       "      <td>data/data/IMG/left_2016_12_01_13_31_13_177.jpg</td>\n",
       "      <td>data/data/IMG/right_2016_12_01_13_31_13_177.jpg</td>\n",
       "      <td>0.0</td>\n",
       "      <td>0.0</td>\n",
       "      <td>0.0</td>\n",
       "      <td>1.418236</td>\n",
       "    </tr>\n",
       "  </tbody>\n",
       "</table>\n",
       "</div>"
      ],
      "text/plain": [
       "                                             center  \\\n",
       "0  data/data/IMG/center_2016_12_01_13_30_48_287.jpg   \n",
       "1  data/data/IMG/center_2016_12_01_13_30_48_404.jpg   \n",
       "2  data/data/IMG/center_2016_12_01_13_31_12_937.jpg   \n",
       "3  data/data/IMG/center_2016_12_01_13_31_13_037.jpg   \n",
       "4  data/data/IMG/center_2016_12_01_13_31_13_177.jpg   \n",
       "\n",
       "                                              left  \\\n",
       "0   data/data/IMG/left_2016_12_01_13_30_48_287.jpg   \n",
       "1   data/data/IMG/left_2016_12_01_13_30_48_404.jpg   \n",
       "2   data/data/IMG/left_2016_12_01_13_31_12_937.jpg   \n",
       "3   data/data/IMG/left_2016_12_01_13_31_13_037.jpg   \n",
       "4   data/data/IMG/left_2016_12_01_13_31_13_177.jpg   \n",
       "\n",
       "                                              right  steering  throttle  \\\n",
       "0   data/data/IMG/right_2016_12_01_13_30_48_287.jpg       0.0       0.0   \n",
       "1   data/data/IMG/right_2016_12_01_13_30_48_404.jpg       0.0       0.0   \n",
       "2   data/data/IMG/right_2016_12_01_13_31_12_937.jpg       0.0       0.0   \n",
       "3   data/data/IMG/right_2016_12_01_13_31_13_037.jpg       0.0       0.0   \n",
       "4   data/data/IMG/right_2016_12_01_13_31_13_177.jpg       0.0       0.0   \n",
       "\n",
       "   brake      speed  \n",
       "0    0.0  22.148290  \n",
       "1    0.0  21.879630  \n",
       "2    0.0   1.453011  \n",
       "3    0.0   1.438419  \n",
       "4    0.0   1.418236  "
      ]
     },
     "execution_count": 4,
     "metadata": {},
     "output_type": "execute_result"
    }
   ],
   "source": [
    "driving_log_road = pd.read_csv('data/driving_log.csv')\n",
    "\n",
    "s = 'data/'\n",
    "d = 'data/data/'\n",
    "driving_log_road['center'] = driving_log_road['center'].str.replace(s,d)\n",
    "driving_log_road['left'] = driving_log_road['left'].str.replace(s,d)\n",
    "driving_log_road['right'] = driving_log_road['right'].str.replace(s,d)\n",
    "\n",
    "driving_log_road.head()"
   ]
  },
  {
   "cell_type": "code",
   "execution_count": 5,
   "metadata": {
    "collapsed": false,
    "deletable": true,
    "editable": true
   },
   "outputs": [
    {
     "data": {
      "text/plain": [
       "((22040, 7), (17556, 7), (8036, 7))"
      ]
     },
     "execution_count": 5,
     "metadata": {},
     "output_type": "execute_result"
    }
   ],
   "source": [
    "driving_log_fwd.shape, driving_log_back.shape, driving_log_road.shape"
   ]
  },
  {
   "cell_type": "code",
   "execution_count": 6,
   "metadata": {
    "collapsed": false
   },
   "outputs": [
    {
     "data": {
      "text/plain": [
       "(27834, 7)"
      ]
     },
     "execution_count": 6,
     "metadata": {},
     "output_type": "execute_result"
    }
   ],
   "source": [
    "driving_log = driving_log_fwd.append(driving_log_back)\\\n",
    "                    .sample(frac=1).reset_index(drop=True)\\\n",
    "                    .sample(frac=0.5).reset_index(drop=True)\\\n",
    "                    .append(driving_log_road)\\\n",
    "                    .sample(frac=1).reset_index(drop=True)\n",
    "\n",
    "driving_log.shape"
   ]
  },
  {
   "cell_type": "code",
   "execution_count": 7,
   "metadata": {
    "collapsed": false
   },
   "outputs": [
    {
     "data": {
      "text/plain": [
       "27834"
      ]
     },
     "execution_count": 7,
     "metadata": {},
     "output_type": "execute_result"
    }
   ],
   "source": [
    "(driving_log_fwd.shape[0] + driving_log_back.shape[0]) // 2 + driving_log_road.shape[0]"
   ]
  },
  {
   "cell_type": "code",
   "execution_count": 8,
   "metadata": {
    "collapsed": false,
    "deletable": true,
    "editable": true
   },
   "outputs": [
    {
     "data": {
      "text/html": [
       "<div>\n",
       "<table border=\"1\" class=\"dataframe\">\n",
       "  <thead>\n",
       "    <tr style=\"text-align: right;\">\n",
       "      <th></th>\n",
       "      <th>center</th>\n",
       "      <th>left</th>\n",
       "      <th>right</th>\n",
       "      <th>steering</th>\n",
       "      <th>throttle</th>\n",
       "      <th>brake</th>\n",
       "      <th>speed</th>\n",
       "    </tr>\n",
       "  </thead>\n",
       "  <tbody>\n",
       "    <tr>\n",
       "      <th>0</th>\n",
       "      <td>data/data22/IMG/center_2017_03_18_12_57_02_987...</td>\n",
       "      <td>data/data22/IMG/left_2017_03_18_12_57_02_987.jpg</td>\n",
       "      <td>data/data22/IMG/right_2017_03_18_12_57_02_987.jpg</td>\n",
       "      <td>0.499793</td>\n",
       "      <td>0.000000</td>\n",
       "      <td>0.0</td>\n",
       "      <td>4.997204</td>\n",
       "    </tr>\n",
       "    <tr>\n",
       "      <th>1</th>\n",
       "      <td>data/data2back/IMG/center_2017_03_18_14_13_23_...</td>\n",
       "      <td>data/data2back/IMG/left_2017_03_18_14_13_23_06...</td>\n",
       "      <td>data/data2back/IMG/right_2017_03_18_14_13_23_0...</td>\n",
       "      <td>0.000000</td>\n",
       "      <td>0.000000</td>\n",
       "      <td>0.0</td>\n",
       "      <td>3.446651</td>\n",
       "    </tr>\n",
       "    <tr>\n",
       "      <th>2</th>\n",
       "      <td>data/data/IMG/center_2016_12_01_13_34_49_089.jpg</td>\n",
       "      <td>data/data/IMG/left_2016_12_01_13_34_49_089.jpg</td>\n",
       "      <td>data/data/IMG/right_2016_12_01_13_34_49_089.jpg</td>\n",
       "      <td>0.000000</td>\n",
       "      <td>0.985533</td>\n",
       "      <td>0.0</td>\n",
       "      <td>30.186620</td>\n",
       "    </tr>\n",
       "    <tr>\n",
       "      <th>3</th>\n",
       "      <td>data/data/IMG/center_2016_12_01_13_33_05_903.jpg</td>\n",
       "      <td>data/data/IMG/left_2016_12_01_13_33_05_903.jpg</td>\n",
       "      <td>data/data/IMG/right_2016_12_01_13_33_05_903.jpg</td>\n",
       "      <td>0.176582</td>\n",
       "      <td>0.985533</td>\n",
       "      <td>0.0</td>\n",
       "      <td>30.185830</td>\n",
       "    </tr>\n",
       "    <tr>\n",
       "      <th>4</th>\n",
       "      <td>data/data/IMG/center_2016_12_01_13_35_35_071.jpg</td>\n",
       "      <td>data/data/IMG/left_2016_12_01_13_35_35_071.jpg</td>\n",
       "      <td>data/data/IMG/right_2016_12_01_13_35_35_071.jpg</td>\n",
       "      <td>0.272268</td>\n",
       "      <td>0.985533</td>\n",
       "      <td>0.0</td>\n",
       "      <td>30.182210</td>\n",
       "    </tr>\n",
       "  </tbody>\n",
       "</table>\n",
       "</div>"
      ],
      "text/plain": [
       "                                              center  \\\n",
       "0  data/data22/IMG/center_2017_03_18_12_57_02_987...   \n",
       "1  data/data2back/IMG/center_2017_03_18_14_13_23_...   \n",
       "2   data/data/IMG/center_2016_12_01_13_34_49_089.jpg   \n",
       "3   data/data/IMG/center_2016_12_01_13_33_05_903.jpg   \n",
       "4   data/data/IMG/center_2016_12_01_13_35_35_071.jpg   \n",
       "\n",
       "                                                left  \\\n",
       "0   data/data22/IMG/left_2017_03_18_12_57_02_987.jpg   \n",
       "1  data/data2back/IMG/left_2017_03_18_14_13_23_06...   \n",
       "2     data/data/IMG/left_2016_12_01_13_34_49_089.jpg   \n",
       "3     data/data/IMG/left_2016_12_01_13_33_05_903.jpg   \n",
       "4     data/data/IMG/left_2016_12_01_13_35_35_071.jpg   \n",
       "\n",
       "                                               right  steering  throttle  \\\n",
       "0  data/data22/IMG/right_2017_03_18_12_57_02_987.jpg  0.499793  0.000000   \n",
       "1  data/data2back/IMG/right_2017_03_18_14_13_23_0...  0.000000  0.000000   \n",
       "2    data/data/IMG/right_2016_12_01_13_34_49_089.jpg  0.000000  0.985533   \n",
       "3    data/data/IMG/right_2016_12_01_13_33_05_903.jpg  0.176582  0.985533   \n",
       "4    data/data/IMG/right_2016_12_01_13_35_35_071.jpg  0.272268  0.985533   \n",
       "\n",
       "   brake      speed  \n",
       "0    0.0   4.997204  \n",
       "1    0.0   3.446651  \n",
       "2    0.0  30.186620  \n",
       "3    0.0  30.185830  \n",
       "4    0.0  30.182210  "
      ]
     },
     "execution_count": 8,
     "metadata": {},
     "output_type": "execute_result"
    }
   ],
   "source": [
    "driving_log.head()"
   ]
  },
  {
   "cell_type": "code",
   "execution_count": 9,
   "metadata": {
    "collapsed": true,
    "deletable": true,
    "editable": true
   },
   "outputs": [],
   "source": [
    "driving_log.to_csv('driving_log.csv', index=False)"
   ]
  }
 ],
 "metadata": {
  "kernelspec": {
   "display_name": "Python 3",
   "language": "python",
   "name": "python3"
  },
  "language_info": {
   "codemirror_mode": {
    "name": "ipython",
    "version": 3
   },
   "file_extension": ".py",
   "mimetype": "text/x-python",
   "name": "python",
   "nbconvert_exporter": "python",
   "pygments_lexer": "ipython3",
   "version": "3.5.2"
  },
  "widgets": {
   "state": {},
   "version": "1.1.2"
  }
 },
 "nbformat": 4,
 "nbformat_minor": 2
}
